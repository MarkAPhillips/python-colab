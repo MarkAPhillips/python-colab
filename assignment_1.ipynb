{
  "nbformat": 4,
  "nbformat_minor": 0,
  "metadata": {
    "colab": {
      "provenance": [],
      "authorship_tag": "ABX9TyOclLQxlHlblqwTFV/wjqqH",
      "include_colab_link": true
    },
    "kernelspec": {
      "name": "python3",
      "display_name": "Python 3"
    },
    "language_info": {
      "name": "python"
    }
  },
  "cells": [
    {
      "cell_type": "markdown",
      "metadata": {
        "id": "view-in-github",
        "colab_type": "text"
      },
      "source": [
        "<a href=\"https://colab.research.google.com/github/MarkAPhillips/python-colab/blob/main/assignment_1.ipynb\" target=\"_parent\"><img src=\"https://colab.research.google.com/assets/colab-badge.svg\" alt=\"Open In Colab\"/></a>"
      ]
    },
    {
      "cell_type": "code",
      "execution_count": null,
      "metadata": {
        "id": "BYmsHl849pJj"
      },
      "outputs": [],
      "source": [
        "from datetime import datetime\n",
        "# Constants\n",
        "DAY_LATE_FEE = 0.50\n",
        "# Input data\n",
        "book_number = 1\n",
        "title = 'The Hunger Games'\n",
        "author = 'Suzanne Collins'\n",
        "genre = 'Young Adult Fiction'\n",
        "date_of_loan = '2023-06-20'\n",
        "date_of_return = '2023-06-24' # Assume a date to levy a fine\n",
        "# Convert input dates to datetime objects\n",
        "date_loan = datetime.strptime(date_of_loan, '%Y-%m-%d')\n",
        "date_return = datetime.strptime(date_of_return, '%Y-%m-%d')\n",
        "# Calculate the number of days a book was borrowed\n",
        "# Assume a use case that a book borrowed and returned the same day is borrowed for one\n",
        "day\n",
        "# TODO: Calculate the 'days_borrowed' correctly\n",
        "# TODO: Calculate the 'days_late' and 'late_fee' based on the 'days_borrowed' and 'DAY_\n",
        "LATE_FEE'\n",
        "# Leave this part as it is; no changes required\n",
        "print(f\"Book Number: {book_number}\")\n",
        "print(f\"Title: {title}\")\n",
        "print(f\"Author: {author}\")\n",
        "print(f\"Genre: {genre}\")\n",
        "print(f\"Date of Loan: {date_loan.strftime('%Y-%m-%d')}\")\n",
        "print(f\"Date of Return: {date_return.strftime('%Y-%m-%d')}\")\n",
        "# TODO: Print the results with appropriate labels\n"
      ]
    }
  ]
}